{
  "nbformat": 4,
  "nbformat_minor": 0,
  "metadata": {
    "colab": {
      "provenance": []
    },
    "kernelspec": {
      "name": "python3",
      "display_name": "Python 3"
    },
    "language_info": {
      "name": "python"
    },
    "accelerator": "GPU",
    "gpuClass": "standard"
  },
  "cells": [
    {
      "cell_type": "code",
      "source": [
        "from google.colab import drive\n",
        "drive.mount('/content/drive')"
      ],
      "metadata": {
        "colab": {
          "base_uri": "https://localhost:8080/"
        },
        "id": "pMBHoTpGYU4a",
        "outputId": "23c8e9b0-94e1-4cb9-b93f-661fe78dddb2"
      },
      "execution_count": 1,
      "outputs": [
        {
          "output_type": "stream",
          "name": "stdout",
          "text": [
            "Drive already mounted at /content/drive; to attempt to forcibly remount, call drive.mount(\"/content/drive\", force_remount=True).\n"
          ]
        }
      ]
    },
    {
      "cell_type": "code",
      "source": [
        "import pandas as pd"
      ],
      "metadata": {
        "id": "mJkbLuVfYVuZ"
      },
      "execution_count": 2,
      "outputs": []
    },
    {
      "cell_type": "code",
      "source": [
        "df = pd.read_csv(\"/content/drive/MyDrive/data_label_binary.csv\")"
      ],
      "metadata": {
        "id": "pYttuQIJYYrc"
      },
      "execution_count": 3,
      "outputs": []
    },
    {
      "cell_type": "code",
      "source": [
        "df.head()"
      ],
      "metadata": {
        "colab": {
          "base_uri": "https://localhost:8080/",
          "height": 206
        },
        "id": "Oo7h9jgjYkYL",
        "outputId": "334fd075-3772-482c-f5ba-08ba89a8077f"
      },
      "execution_count": 4,
      "outputs": [
        {
          "output_type": "execute_result",
          "data": {
            "text/plain": [
              "   Unnamed: 0  Unnamed: 0.1                   Datetime  \\\n",
              "0           0             0  2023-02-06 23:59:56+00:00   \n",
              "1           1             1  2023-02-06 23:59:53+00:00   \n",
              "2           2             2  2023-02-06 23:59:52+00:00   \n",
              "3           3             3  2023-02-06 23:59:47+00:00   \n",
              "4           4             4  2023-02-06 23:59:44+00:00   \n",
              "\n",
              "                                                Text  label  \n",
              "0  Gila BPOM bener deh ini PR besar buat kalian h...      0  \n",
              "1                                             kontol      1  \n",
              "2                                            Iya tai      0  \n",
              "3                                      enak aja gila      0  \n",
              "4  Haechan lagi gila gilaan gantengnya ya pusing dah      0  "
            ],
            "text/html": [
              "\n",
              "  <div id=\"df-6bb9cebb-c4fc-474c-ae59-d94a94c842d7\">\n",
              "    <div class=\"colab-df-container\">\n",
              "      <div>\n",
              "<style scoped>\n",
              "    .dataframe tbody tr th:only-of-type {\n",
              "        vertical-align: middle;\n",
              "    }\n",
              "\n",
              "    .dataframe tbody tr th {\n",
              "        vertical-align: top;\n",
              "    }\n",
              "\n",
              "    .dataframe thead th {\n",
              "        text-align: right;\n",
              "    }\n",
              "</style>\n",
              "<table border=\"1\" class=\"dataframe\">\n",
              "  <thead>\n",
              "    <tr style=\"text-align: right;\">\n",
              "      <th></th>\n",
              "      <th>Unnamed: 0</th>\n",
              "      <th>Unnamed: 0.1</th>\n",
              "      <th>Datetime</th>\n",
              "      <th>Text</th>\n",
              "      <th>label</th>\n",
              "    </tr>\n",
              "  </thead>\n",
              "  <tbody>\n",
              "    <tr>\n",
              "      <th>0</th>\n",
              "      <td>0</td>\n",
              "      <td>0</td>\n",
              "      <td>2023-02-06 23:59:56+00:00</td>\n",
              "      <td>Gila BPOM bener deh ini PR besar buat kalian h...</td>\n",
              "      <td>0</td>\n",
              "    </tr>\n",
              "    <tr>\n",
              "      <th>1</th>\n",
              "      <td>1</td>\n",
              "      <td>1</td>\n",
              "      <td>2023-02-06 23:59:53+00:00</td>\n",
              "      <td>kontol</td>\n",
              "      <td>1</td>\n",
              "    </tr>\n",
              "    <tr>\n",
              "      <th>2</th>\n",
              "      <td>2</td>\n",
              "      <td>2</td>\n",
              "      <td>2023-02-06 23:59:52+00:00</td>\n",
              "      <td>Iya tai</td>\n",
              "      <td>0</td>\n",
              "    </tr>\n",
              "    <tr>\n",
              "      <th>3</th>\n",
              "      <td>3</td>\n",
              "      <td>3</td>\n",
              "      <td>2023-02-06 23:59:47+00:00</td>\n",
              "      <td>enak aja gila</td>\n",
              "      <td>0</td>\n",
              "    </tr>\n",
              "    <tr>\n",
              "      <th>4</th>\n",
              "      <td>4</td>\n",
              "      <td>4</td>\n",
              "      <td>2023-02-06 23:59:44+00:00</td>\n",
              "      <td>Haechan lagi gila gilaan gantengnya ya pusing dah</td>\n",
              "      <td>0</td>\n",
              "    </tr>\n",
              "  </tbody>\n",
              "</table>\n",
              "</div>\n",
              "      <button class=\"colab-df-convert\" onclick=\"convertToInteractive('df-6bb9cebb-c4fc-474c-ae59-d94a94c842d7')\"\n",
              "              title=\"Convert this dataframe to an interactive table.\"\n",
              "              style=\"display:none;\">\n",
              "        \n",
              "  <svg xmlns=\"http://www.w3.org/2000/svg\" height=\"24px\"viewBox=\"0 0 24 24\"\n",
              "       width=\"24px\">\n",
              "    <path d=\"M0 0h24v24H0V0z\" fill=\"none\"/>\n",
              "    <path d=\"M18.56 5.44l.94 2.06.94-2.06 2.06-.94-2.06-.94-.94-2.06-.94 2.06-2.06.94zm-11 1L8.5 8.5l.94-2.06 2.06-.94-2.06-.94L8.5 2.5l-.94 2.06-2.06.94zm10 10l.94 2.06.94-2.06 2.06-.94-2.06-.94-.94-2.06-.94 2.06-2.06.94z\"/><path d=\"M17.41 7.96l-1.37-1.37c-.4-.4-.92-.59-1.43-.59-.52 0-1.04.2-1.43.59L10.3 9.45l-7.72 7.72c-.78.78-.78 2.05 0 2.83L4 21.41c.39.39.9.59 1.41.59.51 0 1.02-.2 1.41-.59l7.78-7.78 2.81-2.81c.8-.78.8-2.07 0-2.86zM5.41 20L4 18.59l7.72-7.72 1.47 1.35L5.41 20z\"/>\n",
              "  </svg>\n",
              "      </button>\n",
              "      \n",
              "  <style>\n",
              "    .colab-df-container {\n",
              "      display:flex;\n",
              "      flex-wrap:wrap;\n",
              "      gap: 12px;\n",
              "    }\n",
              "\n",
              "    .colab-df-convert {\n",
              "      background-color: #E8F0FE;\n",
              "      border: none;\n",
              "      border-radius: 50%;\n",
              "      cursor: pointer;\n",
              "      display: none;\n",
              "      fill: #1967D2;\n",
              "      height: 32px;\n",
              "      padding: 0 0 0 0;\n",
              "      width: 32px;\n",
              "    }\n",
              "\n",
              "    .colab-df-convert:hover {\n",
              "      background-color: #E2EBFA;\n",
              "      box-shadow: 0px 1px 2px rgba(60, 64, 67, 0.3), 0px 1px 3px 1px rgba(60, 64, 67, 0.15);\n",
              "      fill: #174EA6;\n",
              "    }\n",
              "\n",
              "    [theme=dark] .colab-df-convert {\n",
              "      background-color: #3B4455;\n",
              "      fill: #D2E3FC;\n",
              "    }\n",
              "\n",
              "    [theme=dark] .colab-df-convert:hover {\n",
              "      background-color: #434B5C;\n",
              "      box-shadow: 0px 1px 3px 1px rgba(0, 0, 0, 0.15);\n",
              "      filter: drop-shadow(0px 1px 2px rgba(0, 0, 0, 0.3));\n",
              "      fill: #FFFFFF;\n",
              "    }\n",
              "  </style>\n",
              "\n",
              "      <script>\n",
              "        const buttonEl =\n",
              "          document.querySelector('#df-6bb9cebb-c4fc-474c-ae59-d94a94c842d7 button.colab-df-convert');\n",
              "        buttonEl.style.display =\n",
              "          google.colab.kernel.accessAllowed ? 'block' : 'none';\n",
              "\n",
              "        async function convertToInteractive(key) {\n",
              "          const element = document.querySelector('#df-6bb9cebb-c4fc-474c-ae59-d94a94c842d7');\n",
              "          const dataTable =\n",
              "            await google.colab.kernel.invokeFunction('convertToInteractive',\n",
              "                                                     [key], {});\n",
              "          if (!dataTable) return;\n",
              "\n",
              "          const docLinkHtml = 'Like what you see? Visit the ' +\n",
              "            '<a target=\"_blank\" href=https://colab.research.google.com/notebooks/data_table.ipynb>data table notebook</a>'\n",
              "            + ' to learn more about interactive tables.';\n",
              "          element.innerHTML = '';\n",
              "          dataTable['output_type'] = 'display_data';\n",
              "          await google.colab.output.renderOutput(dataTable, element);\n",
              "          const docLink = document.createElement('div');\n",
              "          docLink.innerHTML = docLinkHtml;\n",
              "          element.appendChild(docLink);\n",
              "        }\n",
              "      </script>\n",
              "    </div>\n",
              "  </div>\n",
              "  "
            ]
          },
          "metadata": {},
          "execution_count": 4
        }
      ]
    },
    {
      "cell_type": "code",
      "source": [
        "df.info()"
      ],
      "metadata": {
        "colab": {
          "base_uri": "https://localhost:8080/"
        },
        "id": "FswFCgv4Yl1g",
        "outputId": "1e4382df-9ba6-4edb-8c4b-7b31c6c8e9f2"
      },
      "execution_count": 5,
      "outputs": [
        {
          "output_type": "stream",
          "name": "stdout",
          "text": [
            "<class 'pandas.core.frame.DataFrame'>\n",
            "RangeIndex: 995 entries, 0 to 994\n",
            "Data columns (total 5 columns):\n",
            " #   Column        Non-Null Count  Dtype \n",
            "---  ------        --------------  ----- \n",
            " 0   Unnamed: 0    995 non-null    int64 \n",
            " 1   Unnamed: 0.1  995 non-null    int64 \n",
            " 2   Datetime      995 non-null    object\n",
            " 3   Text          995 non-null    object\n",
            " 4   label         995 non-null    int64 \n",
            "dtypes: int64(3), object(2)\n",
            "memory usage: 39.0+ KB\n"
          ]
        }
      ]
    },
    {
      "cell_type": "code",
      "source": [
        "df.drop(\"Unnamed: 0\",inplace= True,axis = 1)"
      ],
      "metadata": {
        "id": "X6fRZFMtYpD7"
      },
      "execution_count": 6,
      "outputs": []
    },
    {
      "cell_type": "code",
      "source": [
        "df.drop(\"Unnamed: 0.1\",inplace= True,axis = 1)"
      ],
      "metadata": {
        "id": "xuS4D8OgY94w"
      },
      "execution_count": 7,
      "outputs": []
    },
    {
      "cell_type": "code",
      "source": [
        "df.info()"
      ],
      "metadata": {
        "colab": {
          "base_uri": "https://localhost:8080/"
        },
        "id": "IqD_W6IuZOVv",
        "outputId": "d7a2bc26-d92a-4656-96b1-899b12259332"
      },
      "execution_count": 8,
      "outputs": [
        {
          "output_type": "stream",
          "name": "stdout",
          "text": [
            "<class 'pandas.core.frame.DataFrame'>\n",
            "RangeIndex: 995 entries, 0 to 994\n",
            "Data columns (total 3 columns):\n",
            " #   Column    Non-Null Count  Dtype \n",
            "---  ------    --------------  ----- \n",
            " 0   Datetime  995 non-null    object\n",
            " 1   Text      995 non-null    object\n",
            " 2   label     995 non-null    int64 \n",
            "dtypes: int64(1), object(2)\n",
            "memory usage: 23.4+ KB\n"
          ]
        }
      ]
    },
    {
      "cell_type": "code",
      "source": [
        "import urllib.request\n",
        "\n",
        "url = 'https://dl.fbaipublicfiles.com/fasttext/vectors-crawl/cc.id.300.vec.gz'\n",
        "file_name = 'cc.id.300.vec.gz'\n",
        "\n",
        "urllib.request.urlretrieve(url, file_name)\n"
      ],
      "metadata": {
        "colab": {
          "base_uri": "https://localhost:8080/"
        },
        "id": "fZ5bVHkhfHv_",
        "outputId": "89805602-e618-4834-ec14-f6297043acce"
      },
      "execution_count": 9,
      "outputs": [
        {
          "output_type": "execute_result",
          "data": {
            "text/plain": [
              "('cc.id.300.vec.gz', <http.client.HTTPMessage at 0x7fd800464820>)"
            ]
          },
          "metadata": {},
          "execution_count": 9
        }
      ]
    },
    {
      "cell_type": "code",
      "source": [
        "import numpy as np\n",
        "import pandas as pd\n",
        "import tensorflow as tf\n",
        "from sklearn.feature_extraction.text import TfidfVectorizer\n",
        "from keras.preprocessing.text import Tokenizer\n",
        "from tensorflow.keras.preprocessing.sequence import pad_sequences\n",
        "from keras.models import Model\n",
        "from keras.layers import Input, Embedding, Conv1D, MaxPooling1D, LSTM, Dense\n",
        "from keras.callbacks import EarlyStopping\n",
        "from sklearn.model_selection import train_test_split\n",
        "\n",
        "\n",
        "# Perform feature extraction using TF-IDF\n",
        "vectorizer = TfidfVectorizer()\n",
        "X = vectorizer.fit_transform(df['Text'])\n",
        "\n",
        "# Convert labels to numpy array\n",
        "y = np.array(df['label'])\n",
        "\n",
        "# Preprocessing\n",
        "# We don't need to do any further preprocessing since TF-IDF vectorizer takes care of it\n",
        "\n",
        "# Convert sparse matrix to numpy array\n",
        "X = X.toarray()\n",
        "\n",
        "# Extract features\n",
        "max_features = 2000\n",
        "tokenizer = Tokenizer(num_words=max_features)\n",
        "tokenizer.fit_on_texts(df['Text'])\n",
        "sequences = tokenizer.texts_to_sequences(df['Text'])\n",
        "X = pad_sequences(sequences, maxlen=100)\n",
        "\n",
        "# Split the data into training and testing sets\n",
        "X_train, X_test, y_train, y_test = train_test_split(X, y, test_size=0.2, random_state=42)\n",
        "\n",
        "# Define the CNN+RNN model\n",
        "input_layer = Input(shape=(100,))\n",
        "embedding_layer = Embedding(max_features, 128)(input_layer)\n",
        "conv_layer = Conv1D(filters=64, kernel_size=3, activation='relu')(embedding_layer)\n",
        "pooling_layer = MaxPooling1D(pool_size=2)(conv_layer)\n",
        "lstm_layer = LSTM(128)(pooling_layer)\n",
        "output_layer = Dense(1, activation='sigmoid')(lstm_layer)\n",
        "\n",
        "model = Model(inputs=input_layer, outputs=output_layer)\n",
        "model.compile(loss='binary_crossentropy', optimizer='adam', metrics=['accuracy'])\n",
        "\n",
        "# Train the model\n",
        "early_stopping = EarlyStopping(monitor='val_loss', patience=5)\n",
        "history=model.fit(X_train, y_train, validation_data=(X_test, y_test), epochs=50, batch_size=64, callbacks=[early_stopping])\n",
        "\n",
        "# Evaluate the model\n",
        "loss, accuracy = model.evaluate(X_test, y_test, verbose=False)\n",
        "print(f'Test accuracy: {accuracy:.4f}')\n"
      ],
      "metadata": {
        "colab": {
          "base_uri": "https://localhost:8080/"
        },
        "id": "mirXv8mzem69",
        "outputId": "c3fbbdb8-cbf4-4fca-c4d3-4d7ab111cd2e"
      },
      "execution_count": 10,
      "outputs": [
        {
          "output_type": "stream",
          "name": "stdout",
          "text": [
            "Epoch 1/50\n",
            "13/13 [==============================] - 9s 307ms/step - loss: 0.6755 - accuracy: 0.5917 - val_loss: 0.6588 - val_accuracy: 0.5779\n",
            "Epoch 2/50\n",
            "13/13 [==============================] - 3s 226ms/step - loss: 0.6121 - accuracy: 0.6106 - val_loss: 0.5969 - val_accuracy: 0.6583\n",
            "Epoch 3/50\n",
            "13/13 [==============================] - 2s 138ms/step - loss: 0.5105 - accuracy: 0.7462 - val_loss: 0.5698 - val_accuracy: 0.7437\n",
            "Epoch 4/50\n",
            "13/13 [==============================] - 2s 128ms/step - loss: 0.3994 - accuracy: 0.8342 - val_loss: 0.5277 - val_accuracy: 0.7638\n",
            "Epoch 5/50\n",
            "13/13 [==============================] - 2s 123ms/step - loss: 0.2870 - accuracy: 0.8832 - val_loss: 0.6394 - val_accuracy: 0.7538\n",
            "Epoch 6/50\n",
            "13/13 [==============================] - 2s 136ms/step - loss: 0.1875 - accuracy: 0.9296 - val_loss: 0.6452 - val_accuracy: 0.7688\n",
            "Epoch 7/50\n",
            "13/13 [==============================] - 1s 81ms/step - loss: 0.1126 - accuracy: 0.9598 - val_loss: 0.7238 - val_accuracy: 0.7839\n",
            "Epoch 8/50\n",
            "13/13 [==============================] - 2s 120ms/step - loss: 0.0816 - accuracy: 0.9736 - val_loss: 0.7840 - val_accuracy: 0.7739\n",
            "Epoch 9/50\n",
            "13/13 [==============================] - 1s 105ms/step - loss: 0.0782 - accuracy: 0.9736 - val_loss: 0.7952 - val_accuracy: 0.7990\n",
            "Test accuracy: 0.7990\n"
          ]
        }
      ]
    },
    {
      "cell_type": "code",
      "source": [
        "import numpy as np\n",
        "import pandas as pd\n",
        "import tensorflow as tf\n",
        "from sklearn.feature_extraction.text import TfidfVectorizer\n",
        "from keras.preprocessing.text import Tokenizer\n",
        "from tensorflow.keras.preprocessing.sequence import pad_sequences\n",
        "from keras.models import Model\n",
        "from keras.layers import Input, Embedding, Conv1D, MaxPooling1D, LSTM, Dense\n",
        "from keras.callbacks import EarlyStopping\n",
        "from sklearn.model_selection import train_test_split\n",
        "import gensim\n",
        "from tqdm import tqdm\n",
        "\n",
        "\n",
        "# Perform feature extraction using TF-IDF\n",
        "vectorizer = TfidfVectorizer()\n",
        "X = vectorizer.fit_transform(df['Text'])\n",
        "\n",
        "# Convert labels to numpy array\n",
        "y = np.array(df['label'])\n",
        "\n",
        "# Preprocessing\n",
        "# We don't need to do any further preprocessing since TF-IDF vectorizer takes care of it\n",
        "\n",
        "# Convert sparse matrix to numpy array\n",
        "X = X.toarray()\n",
        "\n",
        "# Extract features\n",
        "max_features = 2000\n",
        "tokenizer = Tokenizer(num_words=max_features)\n",
        "tokenizer.fit_on_texts(df['Text'])\n",
        "sequences = tokenizer.texts_to_sequences(df['Text'])\n",
        "X = pad_sequences(sequences, maxlen=100)\n",
        "\n",
        "# Feature expansion\n",
        "feature_ef = vectorizer.get_feature_names()\n",
        "model_ef = gensim.models.KeyedVectors.load_word2vec_format('/content/cc.id.300.vec.gz')\n",
        "\n",
        "def feature_expansion(df, feature, max_distance=0.6):\n",
        "    for col in tqdm(df.columns): #loop per kolom\n",
        "        if col not in feature:\n",
        "            try: \n",
        "                sim_words = model_ef.similar_by_word(col, topn=10) #mencari Similarity\n",
        "            except:\n",
        "                sim_words = []\n",
        "            for sim_word, sim_score in sim_words:\n",
        "                if sim_word in feature and sim_score >= max_distance:\n",
        "                    # check if the similar word has a non-zero value in the DataFrame\n",
        "                    # and the column is not already assigned a non-zero value\n",
        "                    if df[sim_word].any() and not df[col].any():\n",
        "                        # assign the non-zero value of the similar word to the current column\n",
        "                        df.loc[df[sim_word] != 0, col] = df[sim_word]\n",
        "    return df\n",
        "\n",
        "df = feature_expansion(df, feature_ef)\n",
        "\n",
        "vectorizer_ef = TfidfVectorizer(vocabulary=feature_ef)\n",
        "X_ef = vectorizer_ef.fit_transform(df['Text'])\n",
        "\n",
        "X_ef = X_ef.toarray()\n",
        "X = np.concatenate([X, X_ef], axis=1)\n",
        "\n",
        "# Split the data into training and testing sets\n",
        "X_train, Ex_X_test, y_train,Ex_y_test = train_test_split(X, y, test_size=0.2, random_state=42)\n",
        "\n",
        "# Define the CNN+RNN model\n",
        "input_layer = Input(shape=(X.shape[1],))\n",
        "embedding_layer = Embedding(X.shape[1], 128)(input_layer)\n",
        "conv_layer = Conv1D(filters=64, kernel_size=3, activation='relu')(embedding_layer)\n",
        "pooling_layer = MaxPooling1D(pool_size=2)(conv_layer)\n",
        "lstm_layer = LSTM(128)(pooling_layer)\n",
        "output_layer = Dense(1, activation='sigmoid')(lstm_layer)\n",
        "\n",
        "ex_model = Model(inputs=input_layer, outputs=output_layer)\n",
        "ex_model.compile(loss='binary_crossentropy', optimizer='adam', metrics=['accuracy'])\n",
        "\n",
        "# Train the model\n",
        "early_stopping = EarlyStopping(monitor='val_loss', patience=5)\n",
        "ex_history = ex_model.fit(X_train, y_train, validation_data=(Ex_X_test, Ex_y_test), epochs=50, batch_size=64, callbacks=[early_stopping])\n",
        "\n",
        "# Evaluate the model\n",
        "loss, accuracy = ex_model.evaluate(Ex_X_test, Ex_y_test, verbose=False)\n",
        "print(f'Test accuracy: {accuracy:.4f}')\n"
      ],
      "metadata": {
        "colab": {
          "base_uri": "https://localhost:8080/"
        },
        "id": "9To06dJRGvaF",
        "outputId": "edc52282-9de3-43da-a6ae-79ca6e7b7123"
      },
      "execution_count": 11,
      "outputs": [
        {
          "output_type": "stream",
          "name": "stderr",
          "text": [
            "/usr/local/lib/python3.8/dist-packages/sklearn/utils/deprecation.py:87: FutureWarning: Function get_feature_names is deprecated; get_feature_names is deprecated in 1.0 and will be removed in 1.2. Please use get_feature_names_out instead.\n",
            "  warnings.warn(msg, category=FutureWarning)\n",
            "100%|██████████| 3/3 [00:08<00:00,  2.73s/it]\n"
          ]
        },
        {
          "output_type": "stream",
          "name": "stdout",
          "text": [
            "Epoch 1/50\n",
            "13/13 [==============================] - 7s 318ms/step - loss: 0.6750 - accuracy: 0.5854 - val_loss: 0.6849 - val_accuracy: 0.5779\n",
            "Epoch 2/50\n",
            "13/13 [==============================] - 3s 236ms/step - loss: 0.6698 - accuracy: 0.6106 - val_loss: 0.6846 - val_accuracy: 0.5779\n",
            "Epoch 3/50\n",
            "13/13 [==============================] - 4s 298ms/step - loss: 0.6705 - accuracy: 0.6106 - val_loss: 0.6810 - val_accuracy: 0.5779\n",
            "Epoch 4/50\n",
            "13/13 [==============================] - 3s 211ms/step - loss: 0.6764 - accuracy: 0.6106 - val_loss: 0.6821 - val_accuracy: 0.5779\n",
            "Epoch 5/50\n",
            "13/13 [==============================] - 3s 222ms/step - loss: 0.6694 - accuracy: 0.6106 - val_loss: 0.6906 - val_accuracy: 0.5779\n",
            "Epoch 6/50\n",
            "13/13 [==============================] - 3s 235ms/step - loss: 0.6702 - accuracy: 0.6106 - val_loss: 0.6822 - val_accuracy: 0.5779\n",
            "Epoch 7/50\n",
            "13/13 [==============================] - 4s 298ms/step - loss: 0.6693 - accuracy: 0.6106 - val_loss: 0.6822 - val_accuracy: 0.5779\n",
            "Epoch 8/50\n",
            "13/13 [==============================] - 3s 213ms/step - loss: 0.6725 - accuracy: 0.6106 - val_loss: 0.6852 - val_accuracy: 0.5779\n",
            "Test accuracy: 0.5779\n"
          ]
        }
      ]
    },
    {
      "cell_type": "code",
      "source": [
        "from sklearn.metrics import confusion_matrix\n",
        "\n",
        "# Predict using the without expanded feature model\n",
        "y_pred_1 = model.predict(X_test)\n",
        "y_pred_1 = (y_pred_1 > 0.5).astype(int)\n",
        "\n",
        "# Predict using the with expanded feature model\n",
        "y_pred_2 = ex_model.predict(Ex_X_test)\n",
        "y_pred_2 = (y_pred_2 > 0.5).astype(int)\n",
        "\n",
        "# Generate the confusion matrices for both models\n",
        "cm_1 = confusion_matrix(y_test, y_pred_1)\n",
        "cm_2 = confusion_matrix(Ex_y_test, y_pred_2)\n",
        "\n",
        "print(\"Confusion matrix for without expanded feature model:\\n\", cm_1)\n",
        "print(\"Confusion matrix for with expanded feature model:\\n\", cm_2)\n"
      ],
      "metadata": {
        "colab": {
          "base_uri": "https://localhost:8080/"
        },
        "id": "40sPXRoTIAON",
        "outputId": "248b0226-2908-42de-cba3-992a5cb0e446"
      },
      "execution_count": 12,
      "outputs": [
        {
          "output_type": "stream",
          "name": "stdout",
          "text": [
            "7/7 [==============================] - 0s 4ms/step\n",
            "7/7 [==============================] - 1s 33ms/step\n",
            "Confusion matrix for without expanded feature model:\n",
            " [[103  12]\n",
            " [ 28  56]]\n",
            "Confusion matrix for with expanded feature model:\n",
            " [[115   0]\n",
            " [ 84   0]]\n"
          ]
        }
      ]
    },
    {
      "cell_type": "code",
      "source": [
        "import matplotlib.pyplot as plt\n",
        "\n",
        "fig, ax = plt.subplots(1, 2, figsize=(10, 5))\n",
        "\n",
        "# Plot confusion matrix for model 1\n",
        "ax[0].imshow(cm_1, cmap='Blues')\n",
        "ax[0].set_title('Confusion Matrix for without expanded feature model')\n",
        "ax[0].set_xlabel('Predicted labels')\n",
        "ax[0].set_ylabel('True labels')\n",
        "for i in range(cm_1.shape[0]):\n",
        "    for j in range(cm_1.shape[1]):\n",
        "        ax[0].text(j, i, cm_1[i, j], ha='center', va='center', color='white')\n",
        "\n",
        "# Plot confusion matrix for model 2\n",
        "ax[1].imshow(cm_2, cmap='Blues')\n",
        "ax[1].set_title('Confusion Matrix for with expanded feature model')\n",
        "ax[1].set_xlabel('Predicted labels')\n",
        "ax[1].set_ylabel('True labels')\n",
        "for i in range(cm_2.shape[0]):\n",
        "    for j in range(cm_2.shape[1]):\n",
        "        ax[1].text(j, i, cm_2[i, j], ha='center', va='center', color='white')\n",
        "\n",
        "plt.tight_layout()\n",
        "plt.show()\n"
      ],
      "metadata": {
        "colab": {
          "base_uri": "https://localhost:8080/",
          "height": 340
        },
        "id": "uk8_pBLaPhG9",
        "outputId": "cfb3c4a3-8747-4f24-a389-b200e675605d"
      },
      "execution_count": 14,
      "outputs": [
        {
          "output_type": "display_data",
          "data": {
            "text/plain": [
              "<Figure size 720x360 with 2 Axes>"
            ],
            "image/png": "[encoded data removed]"
          },
          "metadata": {
            "needs_background": "light"
          }
        }
      ]
    },
    {
      "cell_type": "code",
      "source": [],
      "metadata": {
        "id": "OzV7tgVHRj2M"
      },
      "execution_count": 13,
      "outputs": []
    }
  ]
}