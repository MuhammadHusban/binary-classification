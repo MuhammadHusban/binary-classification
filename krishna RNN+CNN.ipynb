{
  "nbformat": 4,
  "nbformat_minor": 0,
  "metadata": {
    "colab": {
      "provenance": []
    },
    "kernelspec": {
      "name": "python3",
      "display_name": "Python 3"
    },
    "language_info": {
      "name": "python"
    }
  },
  "cells": [
    {
      "cell_type": "code",
      "source": [
        "import pandas as pd"
      ],
      "metadata": {
        "id": "5uKHckIrY-YZ"
      },
      "execution_count": 1,
      "outputs": []
    },
    {
      "cell_type": "code",
      "source": [
        "df = pd.read_csv(\"/content/data_label_binary.csv\")"
      ],
      "metadata": {
        "id": "eM7JFkBdZAqz"
      },
      "execution_count": 2,
      "outputs": []
    },
    {
      "cell_type": "code",
      "execution_count": 11,
      "metadata": {
        "colab": {
          "base_uri": "https://localhost:8080/"
        },
        "id": "aOQayaPkYmaq",
        "outputId": "081d5865-2064-41ee-8072-bed2e51d2938"
      },
      "outputs": [
        {
          "output_type": "stream",
          "name": "stdout",
          "text": [
            "Epoch 1/10\n",
            "25/25 [==============================] - 5s 93ms/step - loss: 3.4869 - accuracy: 0.5490 - val_loss: 0.9743 - val_accuracy: 0.6482\n",
            "Epoch 2/10\n",
            "25/25 [==============================] - 2s 93ms/step - loss: 0.7491 - accuracy: 0.6420 - val_loss: 0.6619 - val_accuracy: 0.5628\n",
            "Epoch 3/10\n",
            "25/25 [==============================] - 2s 70ms/step - loss: 0.6486 - accuracy: 0.6256 - val_loss: 0.6605 - val_accuracy: 0.5528\n",
            "Epoch 4/10\n",
            "25/25 [==============================] - 2s 69ms/step - loss: 0.6241 - accuracy: 0.6143 - val_loss: 0.6343 - val_accuracy: 0.5879\n",
            "Epoch 5/10\n",
            "25/25 [==============================] - 2s 70ms/step - loss: 0.6214 - accuracy: 0.6181 - val_loss: 0.6416 - val_accuracy: 0.6030\n",
            "Epoch 6/10\n",
            "25/25 [==============================] - 2s 71ms/step - loss: 0.6429 - accuracy: 0.6231 - val_loss: 0.6693 - val_accuracy: 0.5829\n",
            "Epoch 7/10\n",
            "25/25 [==============================] - 2s 71ms/step - loss: 0.6033 - accuracy: 0.6281 - val_loss: 0.6392 - val_accuracy: 0.5879\n",
            "Epoch 8/10\n",
            "25/25 [==============================] - 2s 89ms/step - loss: 0.6114 - accuracy: 0.6168 - val_loss: 0.6423 - val_accuracy: 0.5829\n",
            "Epoch 9/10\n",
            "25/25 [==============================] - 2s 76ms/step - loss: 0.6028 - accuracy: 0.6181 - val_loss: 0.6389 - val_accuracy: 0.5980\n",
            "Epoch 10/10\n",
            "25/25 [==============================] - 2s 69ms/step - loss: 0.5836 - accuracy: 0.6168 - val_loss: 0.6432 - val_accuracy: 0.5879\n"
          ]
        },
        {
          "output_type": "execute_result",
          "data": {
            "text/plain": [
              "<keras.callbacks.History at 0x7fb1bae8d790>"
            ]
          },
          "metadata": {},
          "execution_count": 11
        }
      ],
      "source": [
        "import numpy as np\n",
        "import pandas as pd\n",
        "import tensorflow as tf\n",
        "from sklearn.feature_extraction.text import TfidfVectorizer\n",
        "from keras.preprocessing.text import Tokenizer\n",
        "from tensorflow.keras.preprocessing.sequence import pad_sequences\n",
        "from keras.models import Model\n",
        "from keras.layers import Input, Embedding, LSTM, Conv1D, MaxPooling1D, Dense, Flatten, Dropout, concatenate,Reshape\n",
        "from keras.callbacks import EarlyStopping\n",
        "from sklearn.model_selection import train_test_split\n",
        "\n",
        "# Perform feature extraction using TF-IDF\n",
        "vectorizer = TfidfVectorizer()\n",
        "X = vectorizer.fit_transform(df['Text'])\n",
        "\n",
        "# Convert labels to numpy array\n",
        "y = np.array(df['label'])\n",
        "\n",
        "# Preprocessing\n",
        "# We don't need to do any further preprocessing since TF-IDF vectorizer takes care of it\n",
        "\n",
        "# Convert sparse matrix to numpy array\n",
        "X = X.toarray()\n",
        "\n",
        "# Extract features\n",
        "max_features = 2000\n",
        "tokenizer = Tokenizer(num_words=max_features)\n",
        "tokenizer.fit_on_texts(df['Text'])\n",
        "sequences = tokenizer.texts_to_sequences(df['Text'])\n",
        "X = pad_sequences(sequences, maxlen=100)\n",
        "\n",
        "# Split the data into training and testing sets\n",
        "X_train, X_test, y_train, y_test = train_test_split(X, y, test_size=0.2, random_state=42)\n",
        "\n",
        "# Define the input shape\n",
        "input_shape = X_train.shape[1:]\n",
        "\n",
        "# Define the RNN part of the model\n",
        "rnn_input = Input(shape=input_shape)\n",
        "rnn_layer = Embedding(input_dim=max_features, output_dim=64, input_length=input_shape[0])(rnn_input)\n",
        "rnn_layer = LSTM(units=64, return_sequences=True)(rnn_layer)\n",
        "rnn_layer = Dropout(0.2)(rnn_layer)\n",
        "rnn_layer = Flatten()(rnn_layer)\n",
        "\n",
        "# Define the CNN part of the model\n",
        "cnn_input = Input(shape=input_shape)\n",
        "cnn_layer = Reshape((input_shape[0], 1))(cnn_input)\n",
        "cnn_layer = Conv1D(64, 3, padding='same', activation='relu')(cnn_layer)\n",
        "cnn_layer = MaxPooling1D(pool_size=2)(cnn_layer)\n",
        "cnn_layer = Dropout(0.2)(cnn_layer)\n",
        "cnn_layer = Flatten()(cnn_layer)\n",
        "\n",
        "# Combine the RNN and CNN layers\n",
        "concat_layer = concatenate([rnn_layer, cnn_layer])\n",
        "\n",
        "# Add a dense layer and an output layer\n",
        "dense_layer = Dense(32, activation='relu')(concat_layer)\n",
        "output_layer = Dense(1, activation='sigmoid')(dense_layer)\n",
        "\n",
        "# Define the model and compile it\n",
        "model = Model(inputs=[rnn_input, cnn_input], outputs=[output_layer])\n",
        "model.compile(optimizer='adam', loss='binary_crossentropy', metrics=['accuracy'])\n",
        "\n",
        "# Fit the model\n",
        "model.fit([X_train, X_train], y_train, validation_data=([X_test, X_test], y_test), epochs=10, batch_size=32)\n"
      ]
    },
    {
      "cell_type": "code",
      "source": [
        "import urllib.request\n",
        "\n",
        "url = 'https://dl.fbaipublicfiles.com/fasttext/vectors-crawl/cc.id.300.vec.gz'\n",
        "file_name = 'cc.id.300.vec.gz'\n",
        "\n",
        "urllib.request.urlretrieve(url, file_name)\n"
      ],
      "metadata": {
        "colab": {
          "base_uri": "https://localhost:8080/"
        },
        "id": "Ix8zJAbudsLw",
        "outputId": "d185cd8e-285f-4735-de51-25836ffe3065"
      },
      "execution_count": 12,
      "outputs": [
        {
          "output_type": "execute_result",
          "data": {
            "text/plain": [
              "('cc.id.300.vec.gz', <http.client.HTTPMessage at 0x7fb1baa87820>)"
            ]
          },
          "metadata": {},
          "execution_count": 12
        }
      ]
    },
    {
      "cell_type": "code",
      "source": [
        "import numpy as np\n",
        "import pandas as pd\n",
        "import tensorflow as tf\n",
        "from sklearn.feature_extraction.text import TfidfVectorizer\n",
        "from keras.preprocessing.text import Tokenizer\n",
        "from tensorflow.keras.preprocessing.sequence import pad_sequences\n",
        "from keras.models import Model\n",
        "from keras.layers import Input, Embedding, Conv1D, MaxPooling1D, LSTM, Dense\n",
        "from keras.callbacks import EarlyStopping\n",
        "from sklearn.model_selection import train_test_split\n",
        "import gensim\n",
        "from tqdm import tqdm\n",
        "\n",
        "\n",
        "# Perform feature extraction using TF-IDF\n",
        "vectorizer = TfidfVectorizer()\n",
        "X = vectorizer.fit_transform(df['Text'])\n",
        "\n",
        "# Convert labels to numpy array\n",
        "y = np.array(df['label'])\n",
        "\n",
        "# Preprocessing\n",
        "# We don't need to do any further preprocessing since TF-IDF vectorizer takes care of it\n",
        "\n",
        "# Convert sparse matrix to numpy array\n",
        "X = X.toarray()\n",
        "\n",
        "# Extract features\n",
        "max_features = 2000\n",
        "tokenizer = Tokenizer(num_words=max_features)\n",
        "tokenizer.fit_on_texts(df['Text'])\n",
        "sequences = tokenizer.texts_to_sequences(df['Text'])\n",
        "X = pad_sequences(sequences, maxlen=100)\n",
        "\n",
        "# Feature expansion\n",
        "feature_ef = vectorizer.get_feature_names()\n",
        "model_ef = gensim.models.KeyedVectors.load_word2vec_format('/content/cc.id.300.vec.gz')\n",
        "\n",
        "def feature_expansion(df, feature, max_distance=0.6):\n",
        "    for col in tqdm(df.columns): #loop per kolom\n",
        "        if col not in feature:\n",
        "            try: \n",
        "                sim_words = model_ef.similar_by_word(col, topn=10) #mencari Similarity\n",
        "            except:\n",
        "                sim_words = []\n",
        "            for sim_word, sim_score in sim_words:\n",
        "                if sim_word in feature and sim_score >= max_distance:\n",
        "                    # check if the similar word has a non-zero value in the DataFrame\n",
        "                    # and the column is not already assigned a non-zero value\n",
        "                    if df[sim_word].any() and not df[col].any():\n",
        "                        # assign the non-zero value of the similar word to the current column\n",
        "                        df.loc[df[sim_word] != 0, col] = df[sim_word]\n",
        "    return df\n",
        "\n",
        "df = feature_expansion(df, feature_ef)\n",
        "\n",
        "vectorizer_ef = TfidfVectorizer(vocabulary=feature_ef)\n",
        "X_ef = vectorizer_ef.fit_transform(df['Text'])\n",
        "\n",
        "X_ef = X_ef.toarray()\n",
        "X = np.concatenate([X, X_ef], axis=1)\n",
        "\n",
        "# Split the data into training and testing sets\n",
        "X_train, Ex_X_test, y_train,Ex_y_test = train_test_split(X, y, test_size=0.2, random_state=42)\n",
        "\n",
        "input_shape = X_train.shape[1:]\n",
        "\n",
        "# Define the RNN part of the model\n",
        "rnn_input = Input(shape=input_shape)\n",
        "rnn_layer = Embedding(input_dim=max_features, output_dim=64, input_length=input_shape[0])(rnn_input)\n",
        "rnn_layer = LSTM(units=64, return_sequences=True)(rnn_layer)\n",
        "rnn_layer = Dropout(0.2)(rnn_layer)\n",
        "rnn_layer = Flatten()(rnn_layer)\n",
        "\n",
        "# Define the CNN part of the model\n",
        "cnn_input = Input(shape=input_shape)\n",
        "cnn_layer = Reshape((input_shape[0], 1))(cnn_input)\n",
        "cnn_layer = Conv1D(64, 3, padding='same', activation='relu')(cnn_layer)\n",
        "cnn_layer = MaxPooling1D(pool_size=2)(cnn_layer)\n",
        "cnn_layer = Dropout(0.2)(cnn_layer)\n",
        "cnn_layer = Flatten()(cnn_layer)\n",
        "\n",
        "# Combine the RNN and CNN layers\n",
        "concat_layer = concatenate([rnn_layer, cnn_layer])\n",
        "\n",
        "# Add a dense layer and an output layer\n",
        "dense_layer = Dense(32, activation='relu')(concat_layer)\n",
        "output_layer = Dense(1, activation='sigmoid')(dense_layer)\n",
        "\n",
        "# Define the model and compile it\n",
        "ex_model = Model(inputs=[rnn_input, cnn_input], outputs=[output_layer])\n",
        "ex_model.compile(optimizer='adam', loss='binary_crossentropy', metrics=['accuracy'])\n",
        "\n",
        "# Fit the model\n",
        "ex_model.fit([X_train, X_train], y_train, validation_data=([Ex_X_test, Ex_X_test], Ex_y_test), epochs=10, batch_size=32)\n",
        "\n"
      ],
      "metadata": {
        "colab": {
          "base_uri": "https://localhost:8080/"
        },
        "id": "8IBU6claZfbv",
        "outputId": "a0c6d6c7-4d9c-4511-c792-b12906384b67"
      },
      "execution_count": 13,
      "outputs": [
        {
          "output_type": "stream",
          "name": "stderr",
          "text": [
            "/usr/local/lib/python3.8/dist-packages/sklearn/utils/deprecation.py:87: FutureWarning: Function get_feature_names is deprecated; get_feature_names is deprecated in 1.0 and will be removed in 1.2. Please use get_feature_names_out instead.\n",
            "  warnings.warn(msg, category=FutureWarning)\n",
            "100%|██████████| 5/5 [00:04<00:00,  1.13it/s]\n"
          ]
        },
        {
          "output_type": "stream",
          "name": "stdout",
          "text": [
            "Epoch 1/10\n",
            "25/25 [==============================] - 94s 4s/step - loss: 2.7471 - accuracy: 0.5829 - val_loss: 0.8563 - val_accuracy: 0.6080\n",
            "Epoch 2/10\n",
            "25/25 [==============================] - 92s 4s/step - loss: 0.7850 - accuracy: 0.6118 - val_loss: 0.6855 - val_accuracy: 0.5779\n",
            "Epoch 3/10\n",
            "25/25 [==============================] - 95s 4s/step - loss: 0.6839 - accuracy: 0.6106 - val_loss: 0.6743 - val_accuracy: 0.5779\n",
            "Epoch 4/10\n",
            "25/25 [==============================] - 93s 4s/step - loss: 0.6883 - accuracy: 0.6106 - val_loss: 0.7367 - val_accuracy: 0.5779\n",
            "Epoch 5/10\n",
            "25/25 [==============================] - 94s 4s/step - loss: 0.7026 - accuracy: 0.6106 - val_loss: 0.6817 - val_accuracy: 0.5779\n",
            "Epoch 6/10\n",
            "25/25 [==============================] - 94s 4s/step - loss: 0.6619 - accuracy: 0.6106 - val_loss: 0.6845 - val_accuracy: 0.5779\n",
            "Epoch 7/10\n",
            "25/25 [==============================] - 95s 4s/step - loss: 0.6515 - accuracy: 0.6106 - val_loss: 0.6924 - val_accuracy: 0.5779\n",
            "Epoch 8/10\n",
            "25/25 [==============================] - 95s 4s/step - loss: 0.6430 - accuracy: 0.6106 - val_loss: 0.6929 - val_accuracy: 0.5779\n",
            "Epoch 9/10\n",
            "25/25 [==============================] - 99s 4s/step - loss: 0.6335 - accuracy: 0.6106 - val_loss: 0.7045 - val_accuracy: 0.5779\n",
            "Epoch 10/10\n",
            "25/25 [==============================] - 103s 4s/step - loss: 0.6206 - accuracy: 0.6106 - val_loss: 0.7179 - val_accuracy: 0.5779\n"
          ]
        },
        {
          "output_type": "execute_result",
          "data": {
            "text/plain": [
              "<keras.callbacks.History at 0x7fb0f38ebac0>"
            ]
          },
          "metadata": {},
          "execution_count": 13
        }
      ]
    },
    {
      "cell_type": "code",
      "source": [
        "from sklearn.metrics import confusion_matrix\n",
        "\n",
        "# Predict using the without expanded feature model\n",
        "y_pred_1 = model.predict([X_test, X_test])\n",
        "y_pred_1 = (y_pred_1 > 0.5).astype(int)\n",
        "\n",
        "# Predict using the with expanded feature model\n",
        "y_pred_2 = ex_model.predict([Ex_X_test, Ex_X_test])\n",
        "y_pred_2 = (y_pred_2 > 0.5).astype(int)\n",
        "\n",
        "# Generate the confusion matrices for both models\n",
        "cm_1 = confusion_matrix(y_test, y_pred_1)\n",
        "cm_2 = confusion_matrix(Ex_y_test, y_pred_2)\n",
        "\n",
        "print(\"Confusion matrix for without expanded feature model:\\n\", cm_1)\n",
        "print(\"Confusion matrix for with expanded feature model:\\n\", cm_2)\n"
      ],
      "metadata": {
        "colab": {
          "base_uri": "https://localhost:8080/"
        },
        "id": "gmFWLVGWeFD2",
        "outputId": "07b82ffa-af4c-44fc-de41-8e171fe30229"
      },
      "execution_count": 16,
      "outputs": [
        {
          "output_type": "stream",
          "name": "stdout",
          "text": [
            "7/7 [==============================] - 0s 15ms/step\n",
            "7/7 [==============================] - 4s 596ms/step\n",
            "Confusion matrix for without expanded feature model:\n",
            " [[111   4]\n",
            " [ 78   6]]\n",
            "Confusion matrix for with expanded feature model:\n",
            " [[115   0]\n",
            " [ 84   0]]\n"
          ]
        }
      ]
    },
    {
      "cell_type": "code",
      "source": [
        "import matplotlib.pyplot as plt\n",
        "\n",
        "fig, ax = plt.subplots(1, 2, figsize=(10, 5))\n",
        "\n",
        "# Plot confusion matrix for model 1\n",
        "ax[0].imshow(cm_1, cmap='Blues')\n",
        "ax[0].set_title('Confusion Matrix for without expanded feature model')\n",
        "ax[0].set_xlabel('Predicted labels')\n",
        "ax[0].set_ylabel('True labels')\n",
        "for i in range(cm_1.shape[0]):\n",
        "    for j in range(cm_1.shape[1]):\n",
        "        ax[0].text(j, i, cm_1[i, j], ha='center', va='center', color='white')\n",
        "\n",
        "# Plot confusion matrix for model 2\n",
        "ax[1].imshow(cm_2, cmap='Blues')\n",
        "ax[1].set_title('Confusion Matrix for with expanded feature model')\n",
        "ax[1].set_xlabel('Predicted labels')\n",
        "ax[1].set_ylabel('True labels')\n",
        "for i in range(cm_2.shape[0]):\n",
        "    for j in range(cm_2.shape[1]):\n",
        "        ax[1].text(j, i, cm_2[i, j], ha='center', va='center', color='white')\n",
        "\n",
        "plt.tight_layout()\n",
        "plt.show()\n"
      ],
      "metadata": {
        "colab": {
          "base_uri": "https://localhost:8080/",
          "height": 340
        },
        "id": "URTeUia5jsXu",
        "outputId": "f193f48a-3e61-4356-874c-bf4ca58a5ad6"
      },
      "execution_count": 17,
      "outputs": [
        {
          "output_type": "display_data",
          "data": {
            "text/plain": [
              "<Figure size 720x360 with 2 Axes>"
            ],
            "image/png": "[encoded data removed]"
          },
          "metadata": {
            "needs_background": "light"
          }
        }
      ]
    },
    {
      "cell_type": "code",
      "source": [],
      "metadata": {
        "id": "zYPVcw61kbmA"
      },
      "execution_count": null,
      "outputs": []
    }
  ]
}